{
 "cells": [
  {
   "cell_type": "markdown",
   "metadata": {},
   "source": [
    "# Imports"
   ]
  },
  {
   "cell_type": "code",
   "execution_count": 1,
   "metadata": {},
   "outputs": [],
   "source": [
    "from hashlib import sha256\n",
    "import base64\n",
    "from Crypto import Random\n",
    "from Crypto.Cipher import AES\n",
    "import pandas as pd\n",
    "from cryptography.hazmat.primitives.serialization import load_pem_private_key\n",
    "from cryptography.hazmat.primitives.serialization import load_pem_public_key\n",
    "from cryptography.hazmat.backends import default_backend\n",
    "from cryptography.hazmat.primitives.asymmetric import rsa\n",
    "from cryptography.exceptions import InvalidSignature\n",
    "from cryptography.hazmat.primitives import serialization, hashes\n",
    "from cryptography.hazmat.primitives.asymmetric import padding\n",
    "from PIL import Image\n",
    "import stepic"
   ]
  },
  {
   "cell_type": "markdown",
   "metadata": {},
   "source": [
    "# DNA crypto"
   ]
  },
  {
   "cell_type": "code",
   "execution_count": 7,
   "metadata": {},
   "outputs": [
    {
     "name": "stdout",
     "output_type": "stream",
     "text": [
      "Please enter your message: MAHSA\n",
      "TCCCGACGCACGCGA\n"
     ]
    }
   ],
   "source": [
    "DNA_data = { \"words\":[\"A\",\"B\",\"C\",\"D\",\"E\",\"F\",\"G\",\"H\",\"I\",\"J\",\"K\",\"L\",\"M\",\"N\",\"O\",\"P\",\"Q\",\"R\",\"S\",\"T\",\"U\",\"V\",\"W\",\n",
    "                   \"X\",\"Y\",\"Z\",\" \",\",\",\".\",\":\",0,1,2,3,4,5,6,7,8,9],\n",
    "            \"DNA_code\": [\"CGA\",\"CCA\",\"GTT\",\"TTG\",\"GGC\",\"GGT\",\"TTT\",\"CGC\",\"ATG\",\"AGT\",\"AAG\",\"TGC\",\"TCC\",\"TCT\",\"GGA\",\"GTG\",\n",
    "                         \"AAC\",\"TCA\",\"ACG\",\"TTC\",\"CTG\",\"CCT\",\"CCG\",\"CTA\",\"AAA\",\"CTT\",\"ACC\",\"TCG\",\"GAT\",\"GCT\",\"ACT\",\"TAG\",\n",
    "                         \"ATA\",\"GCA\",\"GAG\",\"AGA\",\"TTA\",\"ACA\",\"AGG\",\"GCG\"]\n",
    "           }\n",
    "\n",
    "DNA_df = pd.DataFrame.from_dict(DNA_data)\n",
    "# DNA_df\n",
    "\n",
    "message = input(\"Please enter your message: \")\n",
    "DNA_crypto_message = \"\"\n",
    "word = message.upper()\n",
    "\n",
    "for i in word:\n",
    "    DNA_crypto_message+= str(DNA_df.loc[ DNA_df['words'] == i , 'DNA_code' ].iloc[0])\n",
    "    \n",
    "print(DNA_crypto_message)"
   ]
  },
  {
   "cell_type": "markdown",
   "metadata": {},
   "source": [
    "# AES"
   ]
  },
  {
   "cell_type": "code",
   "execution_count": 3,
   "metadata": {},
   "outputs": [
    {
     "name": "stdout",
     "output_type": "stream",
     "text": [
      "b'ew6o4Xy6TEp7JCq60kqCdVpGhAy/mt/z+yYxkTJNVyA='\n"
     ]
    }
   ],
   "source": [
    "BS = 16\n",
    "pad = lambda s: bytes(s + (BS - len(s) % BS) * chr(BS - len(s) % BS), 'utf-8')\n",
    "unpad = lambda s : s[0:-ord(s[-1:])]\n",
    "\n",
    "class AESCipher:\n",
    "\n",
    "    def __init__( self, key ):\n",
    "        self.key = bytes(key, 'utf-8')\n",
    "\n",
    "    def encrypt( self, raw ):\n",
    "        raw = pad(raw)\n",
    "        iv = Random.new().read( AES.block_size )\n",
    "        cipher = AES.new(self.key, AES.MODE_CBC, iv )\n",
    "        return base64.b64encode( iv + cipher.encrypt( raw ) )\n",
    "\n",
    "cipher = AESCipher('LKHlhb899Y09olUi')\n",
    "AES_encrypted_message = cipher.encrypt(DNA_crypto_message)\n",
    "\n",
    "print(AES_encrypted_message)\n",
    "\n"
   ]
  },
  {
   "cell_type": "markdown",
   "metadata": {},
   "source": [
    "# Digital Signature (sign)"
   ]
  },
  {
   "cell_type": "code",
   "execution_count": 4,
   "metadata": {},
   "outputs": [],
   "source": [
    "def load_pvkey(filename):\n",
    "    with open(filename, 'rb') as pem_in:\n",
    "        pemlines = pem_in.read()\n",
    "        \n",
    "    private_key = load_pem_private_key(pemlines, None, default_backend())\n",
    "    return private_key\n",
    "\n",
    "message = AES_encrypted_message\n",
    "private_key = load_pvkey(\"private_key\")\n",
    "signature = private_key.sign(message, padding.PSS(mgf=padding.MGF1(hashes.SHA256()),\n",
    "                                                  salt_length=padding.PSS.MAX_LENGTH),hashes.SHA256())\n",
    "# signature"
   ]
  },
  {
   "cell_type": "markdown",
   "metadata": {},
   "source": [
    "# Hiding message and Signature in image"
   ]
  },
  {
   "cell_type": "code",
   "execution_count": 5,
   "metadata": {},
   "outputs": [],
   "source": [
    "im = Image.open('images/original_image.png')\n",
    "#Encode some text into your Image file and save it in another file\n",
    "secret_msg = AES_encrypted_message + bytes(\"SIGNATURE\", 'utf-8') + signature\n",
    "\n",
    "im1 = stepic.encode(im, secret_msg)\n",
    "im1.save('images/encoded_image.png', 'PNG')\n"
   ]
  },
  {
   "cell_type": "code",
   "execution_count": null,
   "metadata": {},
   "outputs": [],
   "source": []
  }
 ],
 "metadata": {
  "kernelspec": {
   "display_name": "Python 3",
   "language": "python",
   "name": "python3"
  },
  "language_info": {
   "codemirror_mode": {
    "name": "ipython",
    "version": 3
   },
   "file_extension": ".py",
   "mimetype": "text/x-python",
   "name": "python",
   "nbconvert_exporter": "python",
   "pygments_lexer": "ipython3",
   "version": "3.8.8"
  }
 },
 "nbformat": 4,
 "nbformat_minor": 2
}
