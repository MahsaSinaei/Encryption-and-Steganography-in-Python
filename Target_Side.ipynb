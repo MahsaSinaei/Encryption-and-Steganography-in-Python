{
 "cells": [
  {
   "cell_type": "markdown",
   "metadata": {},
   "source": [
    "# Imports"
   ]
  },
  {
   "cell_type": "code",
   "execution_count": 1,
   "metadata": {},
   "outputs": [],
   "source": [
    "from hashlib import sha256\n",
    "import base64\n",
    "from Crypto import Random\n",
    "from Crypto.Cipher import AES\n",
    "import pandas as pd\n",
    "from cryptography.hazmat.primitives.serialization import load_pem_private_key\n",
    "from cryptography.hazmat.primitives.serialization import load_pem_public_key\n",
    "from cryptography.hazmat.backends import default_backend\n",
    "from cryptography.hazmat.primitives.asymmetric import rsa\n",
    "from cryptography.exceptions import InvalidSignature\n",
    "from cryptography.hazmat.primitives import serialization, hashes\n",
    "from cryptography.hazmat.primitives.asymmetric import padding\n",
    "from PIL import Image\n",
    "import stepic"
   ]
  },
  {
   "cell_type": "markdown",
   "metadata": {},
   "source": [
    "# Decoding Signature and Message from image"
   ]
  },
  {
   "cell_type": "code",
   "execution_count": 2,
   "metadata": {},
   "outputs": [],
   "source": [
    "im = Image.open('images/encoded_image.png')\n",
    "stegoImage = stepic.decode(im)\n",
    "\n",
    "ind_sep = stegoImage.find('SIGNATURE')\n",
    "message = bytes(stegoImage[:ind_sep],'utf-8')\n",
    "signature = bytes(stegoImage[ind_sep+9:], 'latin1')"
   ]
  },
  {
   "cell_type": "markdown",
   "metadata": {},
   "source": [
    "# Digital Signature (verifying)"
   ]
  },
  {
   "cell_type": "code",
   "execution_count": 3,
   "metadata": {},
   "outputs": [
    {
     "name": "stdout",
     "output_type": "stream",
     "text": [
      "b'ew6o4Xy6TEp7JCq60kqCdVpGhAy/mt/z+yYxkTJNVyA='\n"
     ]
    }
   ],
   "source": [
    "def load_pukey(filename):\n",
    "    with open(filename, 'rb') as pem_in:\n",
    "        pemlines = pem_in.read()\n",
    "    public_key = load_pem_public_key(pemlines, default_backend())\n",
    "    return public_key\n",
    "\n",
    "public_key = load_pukey(\"public_key\")\n",
    "try:\n",
    "    public_key.verify(signature, message, padding.PSS(mgf=padding.MGF1(hashes.SHA256()), \n",
    "                                                  salt_length=padding.PSS.MAX_LENGTH),hashes.SHA256())\n",
    "    print(message)\n",
    "except InvalidSignature:\n",
    "    print('Invalid!')\n"
   ]
  },
  {
   "cell_type": "markdown",
   "metadata": {},
   "source": [
    "# AES decoding"
   ]
  },
  {
   "cell_type": "code",
   "execution_count": 4,
   "metadata": {},
   "outputs": [
    {
     "name": "stdout",
     "output_type": "stream",
     "text": [
      "TCCCGACGCACGCGA\n"
     ]
    }
   ],
   "source": [
    "BS = 16\n",
    "pad = lambda s: bytes(s + (BS - len(s) % BS) * chr(BS - len(s) % BS), 'utf-8')\n",
    "unpad = lambda s : s[0:-ord(s[-1:])]\n",
    "\n",
    "class AESCipher:\n",
    "\n",
    "    def __init__( self, key ):\n",
    "        self.key = bytes(key, 'utf-8')\n",
    "\n",
    "    def decrypt( self, enc ):\n",
    "        enc = base64.b64decode(enc)\n",
    "        iv = enc[:16]\n",
    "        cipher = AES.new(self.key, AES.MODE_CBC, iv )\n",
    "        return unpad(cipher.decrypt( enc[16:] )).decode('utf8')\n",
    "\n",
    "cipher = AESCipher('LKHlhb899Y09olUi')\n",
    "AES_decrypted = cipher.decrypt(message)\n",
    "\n",
    "print(AES_decrypted)"
   ]
  },
  {
   "cell_type": "markdown",
   "metadata": {},
   "source": [
    "# DNA decoding"
   ]
  },
  {
   "cell_type": "code",
   "execution_count": 5,
   "metadata": {},
   "outputs": [
    {
     "name": "stdout",
     "output_type": "stream",
     "text": [
      "The sectet message is:  mahsa\n"
     ]
    }
   ],
   "source": [
    "DNA_data = { \"words\":[\"A\",\"B\",\"C\",\"D\",\"E\",\"F\",\"G\",\"H\",\"I\",\"J\",\"K\",\"L\",\"M\",\"N\",\"O\",\"P\",\"Q\",\"R\",\"S\",\"T\",\"U\",\"V\",\"W\",\n",
    "                   \"X\",\"Y\",\"Z\",\" \",\",\",\".\",\":\",0,1,2,3,4,5,6,7,8,9],\n",
    "            \"DNA_code\": [\"CGA\",\"CCA\",\"GTT\",\"TTG\",\"GGC\",\"GGT\",\"TTT\",\"CGC\",\"ATG\",\"AGT\",\"AAG\",\"TGC\",\"TCC\",\"TCT\",\"GGA\",\"GTG\",\n",
    "                         \"AAC\",\"TCA\",\"ACG\",\"TTC\",\"CTG\",\"CCT\",\"CCG\",\"CTA\",\"AAA\",\"CTT\",\"ACC\",\"TCG\",\"GAT\",\"GCT\",\"ACT\",\"TAG\",\n",
    "                         \"ATA\",\"GCA\",\"GAG\",\"AGA\",\"TTA\",\"ACA\",\"AGG\",\"GCG\"]\n",
    "           }\n",
    "\n",
    "DNA_df = pd.DataFrame.from_dict(DNA_data)\n",
    "\n",
    "l = [AES_decrypted[i:i+3] for i in range(0, len(AES_decrypted), 3)]\n",
    "\n",
    "original_message = \"\"\n",
    "for i in l:\n",
    "    original_message+= str(DNA_df.loc[ DNA_df['DNA_code'] == i , 'words' ].iloc[0])\n",
    "print(\"The sectet message is: \",original_message.lower())"
   ]
  }
 ],
 "metadata": {
  "kernelspec": {
   "display_name": "Python 3",
   "language": "python",
   "name": "python3"
  },
  "language_info": {
   "codemirror_mode": {
    "name": "ipython",
    "version": 3
   },
   "file_extension": ".py",
   "mimetype": "text/x-python",
   "name": "python",
   "nbconvert_exporter": "python",
   "pygments_lexer": "ipython3",
   "version": "3.8.8"
  }
 },
 "nbformat": 4,
 "nbformat_minor": 2
}
